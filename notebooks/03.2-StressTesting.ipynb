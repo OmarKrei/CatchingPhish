{
 "cells": [
  {
   "cell_type": "markdown",
   "id": "a4337ca0",
   "metadata": {},
   "source": [
    "## <span style=\"color: red;\">CatchPhish</span> - An ML Approach to URL Phishing Detection\n",
    "<br>\n",
    "\n",
    "### Advanced Modeling Part 3 - Stress Testing\n",
    "\n",
    "<br>\n",
    "\n",
    "#### Author: Omar Kreidie\n"
   ]
  },
  {
   "cell_type": "markdown",
   "id": "4dd594e5",
   "metadata": {},
   "source": [
    "## Table of Contents: \n",
    "\n",
    "1. [Notebook Introduction](#1)\n",
    "2. [Libraries](#2)\n",
    "3. [The Optimal XGBoost Model](#3)\n",
    "4. [Stress Testing](#4)\n",
    "    - [Synthesized Dataset](#5)\n",
    "    - [Splitting The Dataset](#6)\n",
    "    - [The Clean Label - Performance](#7)\n",
    "    - [The Noisy (synthetic) Data](#8)\n",
    "    - [Evaluating ONLY the Flipped Samples](#9)\n",
    "5. [Conclusion](#10)\n"
   ]
  },
  {
   "cell_type": "markdown",
   "id": "fd99aa9b",
   "metadata": {},
   "source": [
    " <a id ='2'></a>\n",
    "## Libraries"
   ]
  },
  {
   "cell_type": "code",
   "execution_count": 1,
   "id": "3de475b7",
   "metadata": {},
   "outputs": [],
   "source": [
    "#Data frames + Array libraries\n",
    "import pandas as pd\n",
    "import numpy as np \n",
    "\n",
    "#Plotting Libraries\n",
    "import matplotlib.pyplot as plt\n",
    "import seaborn as sns\n",
    "import plotly.express as px\n",
    "from plotly.subplots import make_subplots\n",
    "import plotly.graph_objects as go\n",
    "\n",
    "#Statistics libraries\n",
    "from scipy import stats\n",
    "from scipy.stats import norm \n",
    "\n",
    "\n",
    "#Sklearn model library for logistic regression + preprocessing\n",
    "from sklearn.model_selection import train_test_split\n",
    "from sklearn.feature_extraction.text import CountVectorizer, TfidfVectorizer\n",
    "from sklearn.linear_model import LogisticRegression\n",
    "from sklearn.metrics import accuracy_score, classification_report, roc_auc_score\n",
    "from sklearn.metrics import roc_curve, auc\n",
    "from sklearn.feature_selection import VarianceThreshold\n",
    "from sklearn.metrics import accuracy_score, precision_score, recall_score, f1_score, confusion_matrix, classification_report\n",
    "from sklearn.inspection import permutation_importance\n",
    "\n",
    "\n",
    "#Modelling libraries for the DecisionTree + PCA Pipeline\n",
    "from sklearn.pipeline import Pipeline\n",
    "from sklearn.preprocessing import StandardScaler\n",
    "from sklearn.decomposition import PCA\n",
    "from sklearn.tree import DecisionTreeClassifier\n",
    "from sklearn.model_selection import GridSearchCV\n",
    "from sklearn.metrics import confusion_matrix\n",
    "\n",
    "#Random Forest from sklearn.ensemble\n",
    "from sklearn.ensemble import RandomForestClassifier\n",
    "\n",
    "#importing xgboost\n",
    "import xgboost as xgb\n",
    "from xgboost import XGBClassifier\n",
    "\n",
    "from warnings import filterwarnings\n",
    "filterwarnings(action='ignore')"
   ]
  },
  {
   "cell_type": "markdown",
   "id": "e411a7b7",
   "metadata": {},
   "source": [
    " <a id ='1'></a>\n",
    "## Notebook Introduction"
   ]
  },
  {
   "cell_type": "markdown",
   "id": "f7113f8a",
   "metadata": {},
   "source": [
    "In this notebook, we will be stress testing the optimal XGBoost model from notebook 03.1. More detail about the stress will be explained below. "
   ]
  },
  {
   "cell_type": "code",
   "execution_count": 2,
   "id": "6dba01f0",
   "metadata": {},
   "outputs": [],
   "source": [
    "# loading the full dataset.\n",
    "old_phish = pd.read_csv('../dataset/PhiUSIIL_Phishing_URL_Dataset.csv')\n",
    "\n",
    "#loading the reduced dataset from the reduction notebook. \n",
    "phish = pd.read_csv('../dataset/reduced_phish4.csv')"
   ]
  },
  {
   "cell_type": "code",
   "execution_count": 3,
   "id": "a6f0ed5a",
   "metadata": {},
   "outputs": [],
   "source": [
    "#adding the target variable to the reduced DF\n",
    "phish['label'] = old_phish['label'].values\n",
    "\n",
    "#sanity check to make sure that the number of rows are equal\n",
    "assert len(phish) == len(old_phish), \"DataFrames Rows are not equal\""
   ]
  },
  {
   "cell_type": "code",
   "execution_count": 4,
   "id": "e07f0acc",
   "metadata": {},
   "outputs": [
    {
     "name": "stdout",
     "output_type": "stream",
     "text": [
      "Number of rows are: 235795 \n",
      "Number of columns are: 32\n"
     ]
    }
   ],
   "source": [
    "#Sanity check, making sure there are the right number of features and rows. \n",
    "print(f'Number of rows are: {phish.shape[0]} \\nNumber of columns are: {phish.shape[1]}')"
   ]
  },
  {
   "cell_type": "markdown",
   "id": "0a1680e5",
   "metadata": {},
   "source": [
    " <a id ='3'></a>\n",
    "## The Optimal XGBoost Model"
   ]
  },
  {
   "cell_type": "code",
   "execution_count": 5,
   "id": "fe7cb202",
   "metadata": {
    "scrolled": true
   },
   "outputs": [
    {
     "name": "stdout",
     "output_type": "stream",
     "text": [
      "Fitting 5 folds for each of 162 candidates, totalling 810 fits\n"
     ]
    },
    {
     "data": {
      "text/html": [
       "<style>#sk-container-id-1 {color: black;}#sk-container-id-1 pre{padding: 0;}#sk-container-id-1 div.sk-toggleable {background-color: white;}#sk-container-id-1 label.sk-toggleable__label {cursor: pointer;display: block;width: 100%;margin-bottom: 0;padding: 0.3em;box-sizing: border-box;text-align: center;}#sk-container-id-1 label.sk-toggleable__label-arrow:before {content: \"▸\";float: left;margin-right: 0.25em;color: #696969;}#sk-container-id-1 label.sk-toggleable__label-arrow:hover:before {color: black;}#sk-container-id-1 div.sk-estimator:hover label.sk-toggleable__label-arrow:before {color: black;}#sk-container-id-1 div.sk-toggleable__content {max-height: 0;max-width: 0;overflow: hidden;text-align: left;background-color: #f0f8ff;}#sk-container-id-1 div.sk-toggleable__content pre {margin: 0.2em;color: black;border-radius: 0.25em;background-color: #f0f8ff;}#sk-container-id-1 input.sk-toggleable__control:checked~div.sk-toggleable__content {max-height: 200px;max-width: 100%;overflow: auto;}#sk-container-id-1 input.sk-toggleable__control:checked~label.sk-toggleable__label-arrow:before {content: \"▾\";}#sk-container-id-1 div.sk-estimator input.sk-toggleable__control:checked~label.sk-toggleable__label {background-color: #d4ebff;}#sk-container-id-1 div.sk-label input.sk-toggleable__control:checked~label.sk-toggleable__label {background-color: #d4ebff;}#sk-container-id-1 input.sk-hidden--visually {border: 0;clip: rect(1px 1px 1px 1px);clip: rect(1px, 1px, 1px, 1px);height: 1px;margin: -1px;overflow: hidden;padding: 0;position: absolute;width: 1px;}#sk-container-id-1 div.sk-estimator {font-family: monospace;background-color: #f0f8ff;border: 1px dotted black;border-radius: 0.25em;box-sizing: border-box;margin-bottom: 0.5em;}#sk-container-id-1 div.sk-estimator:hover {background-color: #d4ebff;}#sk-container-id-1 div.sk-parallel-item::after {content: \"\";width: 100%;border-bottom: 1px solid gray;flex-grow: 1;}#sk-container-id-1 div.sk-label:hover label.sk-toggleable__label {background-color: #d4ebff;}#sk-container-id-1 div.sk-serial::before {content: \"\";position: absolute;border-left: 1px solid gray;box-sizing: border-box;top: 0;bottom: 0;left: 50%;z-index: 0;}#sk-container-id-1 div.sk-serial {display: flex;flex-direction: column;align-items: center;background-color: white;padding-right: 0.2em;padding-left: 0.2em;position: relative;}#sk-container-id-1 div.sk-item {position: relative;z-index: 1;}#sk-container-id-1 div.sk-parallel {display: flex;align-items: stretch;justify-content: center;background-color: white;position: relative;}#sk-container-id-1 div.sk-item::before, #sk-container-id-1 div.sk-parallel-item::before {content: \"\";position: absolute;border-left: 1px solid gray;box-sizing: border-box;top: 0;bottom: 0;left: 50%;z-index: -1;}#sk-container-id-1 div.sk-parallel-item {display: flex;flex-direction: column;z-index: 1;position: relative;background-color: white;}#sk-container-id-1 div.sk-parallel-item:first-child::after {align-self: flex-end;width: 50%;}#sk-container-id-1 div.sk-parallel-item:last-child::after {align-self: flex-start;width: 50%;}#sk-container-id-1 div.sk-parallel-item:only-child::after {width: 0;}#sk-container-id-1 div.sk-dashed-wrapped {border: 1px dashed gray;margin: 0 0.4em 0.5em 0.4em;box-sizing: border-box;padding-bottom: 0.4em;background-color: white;}#sk-container-id-1 div.sk-label label {font-family: monospace;font-weight: bold;display: inline-block;line-height: 1.2em;}#sk-container-id-1 div.sk-label-container {text-align: center;}#sk-container-id-1 div.sk-container {/* jupyter's `normalize.less` sets `[hidden] { display: none; }` but bootstrap.min.css set `[hidden] { display: none !important; }` so we also need the `!important` here to be able to override the default hidden behavior on the sphinx rendered scikit-learn.org. See: https://github.com/scikit-learn/scikit-learn/issues/21755 */display: inline-block !important;position: relative;}#sk-container-id-1 div.sk-text-repr-fallback {display: none;}</style><div id=\"sk-container-id-1\" class=\"sk-top-container\"><div class=\"sk-text-repr-fallback\"><pre>GridSearchCV(cv=5,\n",
       "             estimator=Pipeline(steps=[(&#x27;clf&#x27;,\n",
       "                                        XGBClassifier(base_score=None,\n",
       "                                                      booster=None,\n",
       "                                                      callbacks=None,\n",
       "                                                      colsample_bylevel=None,\n",
       "                                                      colsample_bynode=None,\n",
       "                                                      colsample_bytree=None,\n",
       "                                                      early_stopping_rounds=None,\n",
       "                                                      enable_categorical=False,\n",
       "                                                      eval_metric=&#x27;auc&#x27;,\n",
       "                                                      feature_types=None,\n",
       "                                                      gamma=None, gpu_id=None,\n",
       "                                                      grow_policy=None,\n",
       "                                                      importance_type=None,\n",
       "                                                      interaction_constraints=...\n",
       "                                                      min_child_weight=None,\n",
       "                                                      missing=nan,\n",
       "                                                      monotone_constraints=None,\n",
       "                                                      n_estimators=100,\n",
       "                                                      n_jobs=None,\n",
       "                                                      num_parallel_tree=None,\n",
       "                                                      predictor=None,\n",
       "                                                      random_state=42, ...))]),\n",
       "             n_jobs=-1,\n",
       "             param_grid={&#x27;clf__colsample_bytree&#x27;: [0.6, 0.7, 0.8],\n",
       "                         &#x27;clf__learning_rate&#x27;: [0.1, 0.15, 0.2],\n",
       "                         &#x27;clf__max_depth&#x27;: [5, 6, 7],\n",
       "                         &#x27;clf__n_estimators&#x27;: [150, 200, 250],\n",
       "                         &#x27;clf__subsample&#x27;: [0.9, 1.0]},\n",
       "             scoring=&#x27;roc_auc&#x27;, verbose=1)</pre><b>In a Jupyter environment, please rerun this cell to show the HTML representation or trust the notebook. <br />On GitHub, the HTML representation is unable to render, please try loading this page with nbviewer.org.</b></div><div class=\"sk-container\" hidden><div class=\"sk-item sk-dashed-wrapped\"><div class=\"sk-label-container\"><div class=\"sk-label sk-toggleable\"><input class=\"sk-toggleable__control sk-hidden--visually\" id=\"sk-estimator-id-1\" type=\"checkbox\" ><label for=\"sk-estimator-id-1\" class=\"sk-toggleable__label sk-toggleable__label-arrow\">GridSearchCV</label><div class=\"sk-toggleable__content\"><pre>GridSearchCV(cv=5,\n",
       "             estimator=Pipeline(steps=[(&#x27;clf&#x27;,\n",
       "                                        XGBClassifier(base_score=None,\n",
       "                                                      booster=None,\n",
       "                                                      callbacks=None,\n",
       "                                                      colsample_bylevel=None,\n",
       "                                                      colsample_bynode=None,\n",
       "                                                      colsample_bytree=None,\n",
       "                                                      early_stopping_rounds=None,\n",
       "                                                      enable_categorical=False,\n",
       "                                                      eval_metric=&#x27;auc&#x27;,\n",
       "                                                      feature_types=None,\n",
       "                                                      gamma=None, gpu_id=None,\n",
       "                                                      grow_policy=None,\n",
       "                                                      importance_type=None,\n",
       "                                                      interaction_constraints=...\n",
       "                                                      min_child_weight=None,\n",
       "                                                      missing=nan,\n",
       "                                                      monotone_constraints=None,\n",
       "                                                      n_estimators=100,\n",
       "                                                      n_jobs=None,\n",
       "                                                      num_parallel_tree=None,\n",
       "                                                      predictor=None,\n",
       "                                                      random_state=42, ...))]),\n",
       "             n_jobs=-1,\n",
       "             param_grid={&#x27;clf__colsample_bytree&#x27;: [0.6, 0.7, 0.8],\n",
       "                         &#x27;clf__learning_rate&#x27;: [0.1, 0.15, 0.2],\n",
       "                         &#x27;clf__max_depth&#x27;: [5, 6, 7],\n",
       "                         &#x27;clf__n_estimators&#x27;: [150, 200, 250],\n",
       "                         &#x27;clf__subsample&#x27;: [0.9, 1.0]},\n",
       "             scoring=&#x27;roc_auc&#x27;, verbose=1)</pre></div></div></div><div class=\"sk-parallel\"><div class=\"sk-parallel-item\"><div class=\"sk-item\"><div class=\"sk-label-container\"><div class=\"sk-label sk-toggleable\"><input class=\"sk-toggleable__control sk-hidden--visually\" id=\"sk-estimator-id-2\" type=\"checkbox\" ><label for=\"sk-estimator-id-2\" class=\"sk-toggleable__label sk-toggleable__label-arrow\">estimator: Pipeline</label><div class=\"sk-toggleable__content\"><pre>Pipeline(steps=[(&#x27;clf&#x27;,\n",
       "                 XGBClassifier(base_score=None, booster=None, callbacks=None,\n",
       "                               colsample_bylevel=None, colsample_bynode=None,\n",
       "                               colsample_bytree=None,\n",
       "                               early_stopping_rounds=None,\n",
       "                               enable_categorical=False, eval_metric=&#x27;auc&#x27;,\n",
       "                               feature_types=None, gamma=None, gpu_id=None,\n",
       "                               grow_policy=None, importance_type=None,\n",
       "                               interaction_constraints=None, learning_rate=None,\n",
       "                               max_bin=None, max_cat_threshold=None,\n",
       "                               max_cat_to_onehot=None, max_delta_step=None,\n",
       "                               max_depth=None, max_leaves=None,\n",
       "                               min_child_weight=None, missing=nan,\n",
       "                               monotone_constraints=None, n_estimators=100,\n",
       "                               n_jobs=None, num_parallel_tree=None,\n",
       "                               predictor=None, random_state=42, ...))])</pre></div></div></div><div class=\"sk-serial\"><div class=\"sk-item\"><div class=\"sk-serial\"><div class=\"sk-item\"><div class=\"sk-estimator sk-toggleable\"><input class=\"sk-toggleable__control sk-hidden--visually\" id=\"sk-estimator-id-3\" type=\"checkbox\" ><label for=\"sk-estimator-id-3\" class=\"sk-toggleable__label sk-toggleable__label-arrow\">XGBClassifier</label><div class=\"sk-toggleable__content\"><pre>XGBClassifier(base_score=None, booster=None, callbacks=None,\n",
       "              colsample_bylevel=None, colsample_bynode=None,\n",
       "              colsample_bytree=None, early_stopping_rounds=None,\n",
       "              enable_categorical=False, eval_metric=&#x27;auc&#x27;, feature_types=None,\n",
       "              gamma=None, gpu_id=None, grow_policy=None, importance_type=None,\n",
       "              interaction_constraints=None, learning_rate=None, max_bin=None,\n",
       "              max_cat_threshold=None, max_cat_to_onehot=None,\n",
       "              max_delta_step=None, max_depth=None, max_leaves=None,\n",
       "              min_child_weight=None, missing=nan, monotone_constraints=None,\n",
       "              n_estimators=100, n_jobs=None, num_parallel_tree=None,\n",
       "              predictor=None, random_state=42, ...)</pre></div></div></div></div></div></div></div></div></div></div></div></div>"
      ],
      "text/plain": [
       "GridSearchCV(cv=5,\n",
       "             estimator=Pipeline(steps=[('clf',\n",
       "                                        XGBClassifier(base_score=None,\n",
       "                                                      booster=None,\n",
       "                                                      callbacks=None,\n",
       "                                                      colsample_bylevel=None,\n",
       "                                                      colsample_bynode=None,\n",
       "                                                      colsample_bytree=None,\n",
       "                                                      early_stopping_rounds=None,\n",
       "                                                      enable_categorical=False,\n",
       "                                                      eval_metric='auc',\n",
       "                                                      feature_types=None,\n",
       "                                                      gamma=None, gpu_id=None,\n",
       "                                                      grow_policy=None,\n",
       "                                                      importance_type=None,\n",
       "                                                      interaction_constraints=...\n",
       "                                                      min_child_weight=None,\n",
       "                                                      missing=nan,\n",
       "                                                      monotone_constraints=None,\n",
       "                                                      n_estimators=100,\n",
       "                                                      n_jobs=None,\n",
       "                                                      num_parallel_tree=None,\n",
       "                                                      predictor=None,\n",
       "                                                      random_state=42, ...))]),\n",
       "             n_jobs=-1,\n",
       "             param_grid={'clf__colsample_bytree': [0.6, 0.7, 0.8],\n",
       "                         'clf__learning_rate': [0.1, 0.15, 0.2],\n",
       "                         'clf__max_depth': [5, 6, 7],\n",
       "                         'clf__n_estimators': [150, 200, 250],\n",
       "                         'clf__subsample': [0.9, 1.0]},\n",
       "             scoring='roc_auc', verbose=1)"
      ]
     },
     "execution_count": 5,
     "metadata": {},
     "output_type": "execute_result"
    }
   ],
   "source": [
    "# splitting independent & dependent variables\n",
    "\n",
    "X = phish.drop(columns=['label'])\n",
    "y = old_phish['label']\n",
    "\n",
    "# Split (same stratified setup)\n",
    "X_train, X_test, y_train, y_test = train_test_split(\n",
    "    X, y, test_size=0.2, stratify=y, random_state=42\n",
    ")\n",
    "\n",
    "xgb_pipeline = Pipeline([\n",
    "    ('clf', xgb.XGBClassifier(\n",
    "        objective='binary:logistic',\n",
    "        eval_metric='auc',\n",
    "        use_label_encoder=False,\n",
    "        random_state=42\n",
    "    ))\n",
    "])\n",
    "\n",
    "xgb_param_grid_iter1 = {\n",
    "    'clf__n_estimators': [150, 200, 250],    # Number of trees\n",
    "    'clf__max_depth': [5, 6, 7],             # Tree complexity\n",
    "    'clf__learning_rate': [0.1, 0.15, 0.2],  # smaller = slower learning, better generalization\n",
    "    'clf__subsample': [0.9, 1.0],            # Row subsampling for regularization\n",
    "    'clf__colsample_bytree': [0.6, 0.7, 0.8] # Column subsampling (helps avoid overfitting)\n",
    "}\n",
    "# Grid search\n",
    "xgb_grid = GridSearchCV(\n",
    "    xgb_pipeline,\n",
    "    param_grid=xgb_param_grid_iter1,\n",
    "    cv=5,\n",
    "    scoring='roc_auc',\n",
    "    n_jobs=-1,\n",
    "    verbose=1\n",
    ")\n",
    "\n",
    "xgb_grid.fit(X_train, y_train)"
   ]
  },
  {
   "cell_type": "markdown",
   "id": "97ded494",
   "metadata": {},
   "source": [
    "## XGBoost Model Result"
   ]
  },
  {
   "cell_type": "code",
   "execution_count": 6,
   "id": "16f61eb6",
   "metadata": {},
   "outputs": [
    {
     "name": "stdout",
     "output_type": "stream",
     "text": [
      "Best Parameters: {'clf__colsample_bytree': 0.7, 'clf__learning_rate': 0.2, 'clf__max_depth': 5, 'clf__n_estimators': 250, 'clf__subsample': 1.0}\n",
      "Confusion Matrix:\n",
      " [[20165    24]\n",
      " [    7 26963]]\n",
      "Classification Report:\n",
      "               precision    recall  f1-score   support\n",
      "\n",
      "           0       1.00      1.00      1.00     20189\n",
      "           1       1.00      1.00      1.00     26970\n",
      "\n",
      "    accuracy                           1.00     47159\n",
      "   macro avg       1.00      1.00      1.00     47159\n",
      "weighted avg       1.00      1.00      1.00     47159\n",
      "\n",
      "ROC AUC Score: 0.9999907896701715\n"
     ]
    }
   ],
   "source": [
    "y_pred_xgb = xgb_grid.predict(X_test)\n",
    "y_proba_xgb = xgb_grid.predict_proba(X_test)[:, 1]\n",
    "\n",
    "print('Best Parameters:', xgb_grid.best_params_)\n",
    "print('Confusion Matrix:\\n', confusion_matrix(y_test, y_pred_xgb))\n",
    "print('Classification Report:\\n', classification_report(y_test, y_pred_xgb))\n",
    "print('ROC AUC Score:', roc_auc_score(y_test, y_proba_xgb))"
   ]
  },
  {
   "cell_type": "markdown",
   "id": "443b67db",
   "metadata": {},
   "source": [
    " <a id ='4'></a>\n",
    "# Stress Testing"
   ]
  },
  {
   "cell_type": "markdown",
   "id": "99e360cc",
   "metadata": {},
   "source": [
    "To stress test the model, we will introduce label noise. This wil lsimulate real-world label inconsistencies, such as humar error or outdates information. \n",
    "\n",
    "<br>Using Generative AI, I synthesized a dataset which randomly selected 1% of the dataset and flipped the labels from legitimate to phishing and vice versa. These labels have been stored in a column called noisy_label. In addition to that, I realized that there was no way of tracking which labels were flipped, so I prompted the Gen AI model to add a column called label_flipped where (0=unchanged and 1 = flipped). \n",
    "\n",
    "<br> The point of the stress test is to simulate real-world imperfection in labeled data. The goal is to see how much performance degrades with a small amount of label noise. This is especially important for phishing detection systems, where label certainty is not guaranteed and false negatives can have major consequences. "
   ]
  },
  {
   "cell_type": "markdown",
   "id": "2809994a",
   "metadata": {},
   "source": [
    " <a id ='5'></a>\n",
    " ## The Synthesized Dataset"
   ]
  },
  {
   "cell_type": "code",
   "execution_count": 7,
   "id": "dcad7c6f",
   "metadata": {},
   "outputs": [],
   "source": [
    "# The stress test dataset\n",
    "#loading the reduced dataset from the reduction notebook. \n",
    "synthetic_phish= pd.read_csv('../dataset/final_stress_test_dataset.csv')"
   ]
  },
  {
   "cell_type": "code",
   "execution_count": 8,
   "id": "781ed17a",
   "metadata": {},
   "outputs": [
    {
     "data": {
      "text/html": [
       "<div>\n",
       "<style scoped>\n",
       "    .dataframe tbody tr th:only-of-type {\n",
       "        vertical-align: middle;\n",
       "    }\n",
       "\n",
       "    .dataframe tbody tr th {\n",
       "        vertical-align: top;\n",
       "    }\n",
       "\n",
       "    .dataframe thead th {\n",
       "        text-align: right;\n",
       "    }\n",
       "</style>\n",
       "<table border=\"1\" class=\"dataframe\">\n",
       "  <thead>\n",
       "    <tr style=\"text-align: right;\">\n",
       "      <th></th>\n",
       "      <th>DomainLength</th>\n",
       "      <th>TLDLegitimateProb</th>\n",
       "      <th>TLDLength</th>\n",
       "      <th>NoOfSubDomain</th>\n",
       "      <th>NoOfLettersInURL</th>\n",
       "      <th>LetterRatioInURL</th>\n",
       "      <th>NoOfEqualsInURL</th>\n",
       "      <th>NoOfQMarkInURL</th>\n",
       "      <th>LineOfCode</th>\n",
       "      <th>LargestLineLength</th>\n",
       "      <th>...</th>\n",
       "      <th>Pay</th>\n",
       "      <th>Crypto</th>\n",
       "      <th>NoOfImage</th>\n",
       "      <th>NoOfCSS</th>\n",
       "      <th>NoOfJS</th>\n",
       "      <th>NoOfEmptyRef</th>\n",
       "      <th>NoOfExternalRef</th>\n",
       "      <th>label</th>\n",
       "      <th>noisy_label</th>\n",
       "      <th>label_flipped</th>\n",
       "    </tr>\n",
       "  </thead>\n",
       "  <tbody>\n",
       "    <tr>\n",
       "      <th>235790</th>\n",
       "      <td>22</td>\n",
       "      <td>0.522907</td>\n",
       "      <td>3</td>\n",
       "      <td>1</td>\n",
       "      <td>16</td>\n",
       "      <td>0.552</td>\n",
       "      <td>0</td>\n",
       "      <td>0</td>\n",
       "      <td>2007</td>\n",
       "      <td>9381</td>\n",
       "      <td>...</td>\n",
       "      <td>1</td>\n",
       "      <td>0</td>\n",
       "      <td>51</td>\n",
       "      <td>7</td>\n",
       "      <td>21</td>\n",
       "      <td>2</td>\n",
       "      <td>191</td>\n",
       "      <td>1</td>\n",
       "      <td>1</td>\n",
       "      <td>0</td>\n",
       "    </tr>\n",
       "    <tr>\n",
       "      <th>235791</th>\n",
       "      <td>21</td>\n",
       "      <td>0.028555</td>\n",
       "      <td>2</td>\n",
       "      <td>2</td>\n",
       "      <td>14</td>\n",
       "      <td>0.500</td>\n",
       "      <td>0</td>\n",
       "      <td>0</td>\n",
       "      <td>1081</td>\n",
       "      <td>348</td>\n",
       "      <td>...</td>\n",
       "      <td>1</td>\n",
       "      <td>0</td>\n",
       "      <td>50</td>\n",
       "      <td>1</td>\n",
       "      <td>7</td>\n",
       "      <td>0</td>\n",
       "      <td>31</td>\n",
       "      <td>1</td>\n",
       "      <td>1</td>\n",
       "      <td>0</td>\n",
       "    </tr>\n",
       "    <tr>\n",
       "      <th>235792</th>\n",
       "      <td>23</td>\n",
       "      <td>0.003319</td>\n",
       "      <td>2</td>\n",
       "      <td>1</td>\n",
       "      <td>17</td>\n",
       "      <td>0.567</td>\n",
       "      <td>0</td>\n",
       "      <td>0</td>\n",
       "      <td>709</td>\n",
       "      <td>13277</td>\n",
       "      <td>...</td>\n",
       "      <td>0</td>\n",
       "      <td>0</td>\n",
       "      <td>27</td>\n",
       "      <td>10</td>\n",
       "      <td>30</td>\n",
       "      <td>2</td>\n",
       "      <td>67</td>\n",
       "      <td>1</td>\n",
       "      <td>1</td>\n",
       "      <td>0</td>\n",
       "    </tr>\n",
       "    <tr>\n",
       "      <th>235793</th>\n",
       "      <td>47</td>\n",
       "      <td>0.000961</td>\n",
       "      <td>3</td>\n",
       "      <td>2</td>\n",
       "      <td>39</td>\n",
       "      <td>0.709</td>\n",
       "      <td>0</td>\n",
       "      <td>0</td>\n",
       "      <td>125</td>\n",
       "      <td>1807</td>\n",
       "      <td>...</td>\n",
       "      <td>0</td>\n",
       "      <td>0</td>\n",
       "      <td>0</td>\n",
       "      <td>0</td>\n",
       "      <td>3</td>\n",
       "      <td>0</td>\n",
       "      <td>0</td>\n",
       "      <td>0</td>\n",
       "      <td>0</td>\n",
       "      <td>0</td>\n",
       "    </tr>\n",
       "    <tr>\n",
       "      <th>235794</th>\n",
       "      <td>26</td>\n",
       "      <td>0.522907</td>\n",
       "      <td>3</td>\n",
       "      <td>1</td>\n",
       "      <td>20</td>\n",
       "      <td>0.606</td>\n",
       "      <td>0</td>\n",
       "      <td>0</td>\n",
       "      <td>1038</td>\n",
       "      <td>3346</td>\n",
       "      <td>...</td>\n",
       "      <td>0</td>\n",
       "      <td>0</td>\n",
       "      <td>21</td>\n",
       "      <td>6</td>\n",
       "      <td>18</td>\n",
       "      <td>0</td>\n",
       "      <td>261</td>\n",
       "      <td>1</td>\n",
       "      <td>1</td>\n",
       "      <td>0</td>\n",
       "    </tr>\n",
       "  </tbody>\n",
       "</table>\n",
       "<p>5 rows × 34 columns</p>\n",
       "</div>"
      ],
      "text/plain": [
       "        DomainLength  TLDLegitimateProb  TLDLength  NoOfSubDomain  \\\n",
       "235790            22           0.522907          3              1   \n",
       "235791            21           0.028555          2              2   \n",
       "235792            23           0.003319          2              1   \n",
       "235793            47           0.000961          3              2   \n",
       "235794            26           0.522907          3              1   \n",
       "\n",
       "        NoOfLettersInURL  LetterRatioInURL  NoOfEqualsInURL  NoOfQMarkInURL  \\\n",
       "235790                16             0.552                0               0   \n",
       "235791                14             0.500                0               0   \n",
       "235792                17             0.567                0               0   \n",
       "235793                39             0.709                0               0   \n",
       "235794                20             0.606                0               0   \n",
       "\n",
       "        LineOfCode  LargestLineLength  ...  Pay  Crypto  NoOfImage  NoOfCSS  \\\n",
       "235790        2007               9381  ...    1       0         51        7   \n",
       "235791        1081                348  ...    1       0         50        1   \n",
       "235792         709              13277  ...    0       0         27       10   \n",
       "235793         125               1807  ...    0       0          0        0   \n",
       "235794        1038               3346  ...    0       0         21        6   \n",
       "\n",
       "        NoOfJS  NoOfEmptyRef  NoOfExternalRef  label  noisy_label  \\\n",
       "235790      21             2              191      1            1   \n",
       "235791       7             0               31      1            1   \n",
       "235792      30             2               67      1            1   \n",
       "235793       3             0                0      0            0   \n",
       "235794      18             0              261      1            1   \n",
       "\n",
       "        label_flipped  \n",
       "235790              0  \n",
       "235791              0  \n",
       "235792              0  \n",
       "235793              0  \n",
       "235794              0  \n",
       "\n",
       "[5 rows x 34 columns]"
      ]
     },
     "execution_count": 8,
     "metadata": {},
     "output_type": "execute_result"
    }
   ],
   "source": [
    "synthetic_phish.tail()"
   ]
  },
  {
   "cell_type": "code",
   "execution_count": 9,
   "id": "38624cdd",
   "metadata": {
    "scrolled": true
   },
   "outputs": [
    {
     "name": "stdout",
     "output_type": "stream",
     "text": [
      "Number of rows are: 235795 \n",
      "Number of columns are: 34\n"
     ]
    }
   ],
   "source": [
    "#Sanity check, making sure there are the right number of features and rows. \n",
    "#We are expecting 34 columns\n",
    "print(f'Number of rows are: {synthetic_phish.shape[0]} \\nNumber of columns are: {synthetic_phish.shape[1]}')"
   ]
  },
  {
   "cell_type": "markdown",
   "id": "dd483fd6",
   "metadata": {},
   "source": [
    " <a id ='6'></a>\n",
    "## Splitting The Dataset (2 target variables, clean & noisy)"
   ]
  },
  {
   "cell_type": "code",
   "execution_count": 10,
   "id": "6ce7147b",
   "metadata": {},
   "outputs": [
    {
     "name": "stdout",
     "output_type": "stream",
     "text": [
      "Shape of X: (235795, 31)\n",
      "Noisy label distribution:\n",
      " noisy_label\n",
      "1    134469\n",
      "0    101326\n",
      "Name: count, dtype: int64\n",
      "Number of flipped rows: 2357\n"
     ]
    }
   ],
   "source": [
    "# Split features and labels\n",
    "X_stress = synthetic_phish.drop(columns=['label', 'noisy_label', 'label_flipped'])\n",
    "y_noisy = synthetic_phish['noisy_label']  # labels with 1% noise\n",
    "y_clean = synthetic_phish['label']        # original target variable\n",
    "flipped_mask = synthetic_phish['label_flipped'] == 1  # finding the flipped labels\n",
    "\n",
    "# the fundamental sanity checks \n",
    "print(\"Shape of X:\", X_stress.shape)\n",
    "print(\"Noisy label distribution:\\n\", y_noisy.value_counts())\n",
    "print(\"Number of flipped rows:\", flipped_mask.sum())"
   ]
  },
  {
   "cell_type": "code",
   "execution_count": 11,
   "id": "474d2ada",
   "metadata": {},
   "outputs": [],
   "source": [
    "best_model = xgb_grid.best_estimator_"
   ]
  },
  {
   "cell_type": "markdown",
   "id": "a6c9ef97",
   "metadata": {},
   "source": [
    " <a id ='7'></a>\n",
    "## The Clean Label"
   ]
  },
  {
   "cell_type": "code",
   "execution_count": 17,
   "id": "dadb92e6",
   "metadata": {
    "scrolled": true
   },
   "outputs": [
    {
     "name": "stdout",
     "output_type": "stream",
     "text": [
      "Evaluation on Clean Data\n",
      "\n",
      "Confusion Matrix:\n",
      "[[100918     27]\n",
      " [     7 134843]]\n",
      "\n",
      "Classification Report:\n",
      "              precision    recall  f1-score   support\n",
      "\n",
      "           0       1.00      1.00      1.00    100945\n",
      "           1       1.00      1.00      1.00    134850\n",
      "\n",
      "    accuracy                           1.00    235795\n",
      "   macro avg       1.00      1.00      1.00    235795\n",
      "weighted avg       1.00      1.00      1.00    235795\n",
      "\n"
     ]
    }
   ],
   "source": [
    "# Evaluating performance on the clean labels for comparison\n",
    "print(\"Evaluation on Clean Data\\n\")\n",
    "y_pred_clean = best_model.predict(X_stress)\n",
    "print(\"Confusion Matrix:\")\n",
    "print(confusion_matrix(y_clean, y_pred_clean))\n",
    "print(\"\\nClassification Report:\")\n",
    "print(classification_report(y_clean, y_pred_clean))"
   ]
  },
  {
   "cell_type": "markdown",
   "id": "ccee1a16",
   "metadata": {},
   "source": [
    " <a id ='8'></a>\n",
    "## The Noisy (synthetic) Data"
   ]
  },
  {
   "cell_type": "code",
   "execution_count": 14,
   "id": "bb44301c",
   "metadata": {},
   "outputs": [
    {
     "name": "stdout",
     "output_type": "stream",
     "text": [
      "Evaluation on Synthetic (Noisy) Data\n",
      "\n",
      "Confusion Matrix:\n",
      "[[ 99932   1394]\n",
      " [   993 133476]]\n",
      "\n",
      "Classification Report:\n",
      "              precision    recall  f1-score   support\n",
      "\n",
      "           0       0.99      0.99      0.99    101326\n",
      "           1       0.99      0.99      0.99    134469\n",
      "\n",
      "    accuracy                           0.99    235795\n",
      "   macro avg       0.99      0.99      0.99    235795\n",
      "weighted avg       0.99      0.99      0.99    235795\n",
      "\n",
      "ROC AUC Score: 0.989495943062187\n"
     ]
    }
   ],
   "source": [
    "# generating predictions on the stress test features\n",
    "y_pred = best_model.predict(X_stress)\n",
    "y_proba = best_model.predict_proba(X_stress)[:, 1]\n",
    "\n",
    "\n",
    "print(\"Evaluation on Synthetic (Noisy) Data\\n\")\n",
    "print(\"Confusion Matrix:\")\n",
    "print(confusion_matrix(y_noisy, y_pred))\n",
    "print(\"\\nClassification Report:\")\n",
    "print(classification_report(y_noisy, y_pred))\n",
    "print(\"ROC AUC Score:\", roc_auc_score(y_noisy, y_proba))"
   ]
  },
  {
   "cell_type": "markdown",
   "id": "070cc166",
   "metadata": {},
   "source": [
    "Given the noisy data, where 1% of the labels were flipped we can see the following things have happened: \n",
    "\n",
    "1. The number of misclassifications increased from 34 to 2,387 false positive & negatives. \n",
    "2. The 1% flip disrupted the class boundaries\n",
    "3. ROC AUC dropped from 0.9999 to 0.9895, which is still a great score, but it shows that our model has clearly decreased capabilities. \n",
    "\n",
    "----\n",
    "\n",
    "What this tells us:\n",
    "\n",
    "- The model was not rained to handle label noise, this means that even small inconsistencies will cause the model some issues. "
   ]
  },
  {
   "cell_type": "markdown",
   "id": "8c76ddc7",
   "metadata": {},
   "source": [
    " <a id ='9'></a>\n",
    "## ONLY the Flipped Samples "
   ]
  },
  {
   "cell_type": "code",
   "execution_count": 15,
   "id": "6ca99a63",
   "metadata": {
    "scrolled": true
   },
   "outputs": [
    {
     "name": "stdout",
     "output_type": "stream",
     "text": [
      "Evaluation on Flipped (Noisy) Samples Only\n",
      "\n",
      "Confusion Matrix (Flipped Samples):\n",
      "[[   0 1369]\n",
      " [ 986    2]]\n",
      "\n",
      "Classification Report (Flipped Samples):\n",
      "              precision    recall  f1-score   support\n",
      "\n",
      "           0       0.00      0.00      0.00      1369\n",
      "           1       0.00      0.00      0.00       988\n",
      "\n",
      "    accuracy                           0.00      2357\n",
      "   macro avg       0.00      0.00      0.00      2357\n",
      "weighted avg       0.00      0.00      0.00      2357\n",
      "\n",
      "ROC AUC Score (Flipped Samples): 1.4786643520640723e-05\n"
     ]
    }
   ],
   "source": [
    "# Evaluating performance specifically on the flipped samples\n",
    "print(\"Evaluation on Flipped (Noisy) Samples Only\\n\")\n",
    "# creating masks for flipped samples\n",
    "flipped_indices = synthetic_phish[synthetic_phish['label_flipped'] == 1].index\n",
    "X_flipped = X_stress.loc[flipped_indices]\n",
    "y_noisy_flipped = y_noisy.loc[flipped_indices]\n",
    "y_clean_flipped = y_clean.loc[flipped_indices]\n",
    "\n",
    "# Making predictions on flipped subset\n",
    "y_pred_flipped = best_model.predict(X_flipped)\n",
    "y_proba_flipped = best_model.predict_proba(X_flipped)[:, 1]\n",
    "\n",
    "print(\"Confusion Matrix (Flipped Samples):\")\n",
    "print(confusion_matrix(y_noisy_flipped, y_pred_flipped))\n",
    "print(\"\\nClassification Report (Flipped Samples):\")\n",
    "print(classification_report(y_noisy_flipped, y_pred_flipped))\n",
    "print(\"ROC AUC Score (Flipped Samples):\", roc_auc_score(y_noisy_flipped, y_proba_flipped))"
   ]
  },
  {
   "cell_type": "markdown",
   "id": "3494cbfe",
   "metadata": {},
   "source": [
    "The result of flipping 1% of all the labels is: \n",
    "- The model almost always predicted the original class, meaning that it's answers are correct for the most part if the labels weren't flipped. \n",
    "- This means that it consistenly disagreed with what the target variable was telling it. This is actually not a bad thing, because the label was flipped... \n",
    "\n",
    "<br> For example, if the model was told that the PHISHING URL was legitimate, the model will tell you it's phishing. This is a positive because although, in this stress test it fails numerically, it's logic makes sense, which means it's refusing to believe the wrong labels. "
   ]
  },
  {
   "cell_type": "markdown",
   "id": "10b545df",
   "metadata": {},
   "source": [
    " <a id ='10'></a>\n",
    "## Conclusion "
   ]
  },
  {
   "cell_type": "markdown",
   "id": "c3789104",
   "metadata": {},
   "source": [
    "The Clean labels had a 99.99% accuracy with an ROC AUC of 0.99999, That's a great performance. \n",
    "\n",
    "----\n",
    "\n",
    "The Noisy labels had an accuracy of 98.99% with an ROC AUC of 0.9895, thats a good performance, but a degradation was found after adding 1% label noise. \n",
    "\n",
    "----\n",
    "\n",
    "When Looking at just the flipped labels, numerically the model failed with 0% accuracyt and 0.00000001 ROC AUC. However, logically this is fantastic because the error was on the human and not the model. \n",
    "\n",
    "----\n",
    "\n",
    "In conclusion, the XGBoost model is confident and consistent, and it predicts based on learned patterns. "
   ]
  },
  {
   "cell_type": "code",
   "execution_count": 18,
   "id": "5b126ee8",
   "metadata": {},
   "outputs": [
    {
     "data": {
      "text/plain": [
       "['xgb_model.pkl']"
      ]
     },
     "execution_count": 18,
     "metadata": {},
     "output_type": "execute_result"
    }
   ],
   "source": [
    "import joblib\n",
    "\n",
    "#saving the entire XGBmodel pipeline into a .pkl file. \n",
    "joblib.dump(best_model, 'xgb_model.pkl')"
   ]
  },
  {
   "cell_type": "code",
   "execution_count": 20,
   "id": "dad9ace4",
   "metadata": {},
   "outputs": [
    {
     "data": {
      "text/plain": [
       "Index(['DomainLength', 'TLDLegitimateProb', 'TLDLength', 'NoOfSubDomain',\n",
       "       'NoOfLettersInURL', 'LetterRatioInURL', 'NoOfEqualsInURL',\n",
       "       'NoOfQMarkInURL', 'LineOfCode', 'LargestLineLength', 'HasTitle',\n",
       "       'DomainTitleMatchScore', 'HasFavicon', 'Robots', 'IsResponsive',\n",
       "       'NoOfURLRedirect', 'NoOfSelfRedirect', 'NoOfPopup', 'NoOfiFrame',\n",
       "       'HasExternalFormSubmit', 'HasSubmitButton', 'HasHiddenFields',\n",
       "       'HasPasswordField', 'Bank', 'Pay', 'Crypto', 'NoOfImage', 'NoOfCSS',\n",
       "       'NoOfJS', 'NoOfEmptyRef', 'NoOfExternalRef', 'label'],\n",
       "      dtype='object')"
      ]
     },
     "execution_count": 20,
     "metadata": {},
     "output_type": "execute_result"
    }
   ],
   "source": [
    "phish.columns"
   ]
  },
  {
   "cell_type": "code",
   "execution_count": 21,
   "id": "49182e24",
   "metadata": {},
   "outputs": [
    {
     "data": {
      "text/html": [
       "<div>\n",
       "<style scoped>\n",
       "    .dataframe tbody tr th:only-of-type {\n",
       "        vertical-align: middle;\n",
       "    }\n",
       "\n",
       "    .dataframe tbody tr th {\n",
       "        vertical-align: top;\n",
       "    }\n",
       "\n",
       "    .dataframe thead th {\n",
       "        text-align: right;\n",
       "    }\n",
       "</style>\n",
       "<table border=\"1\" class=\"dataframe\">\n",
       "  <thead>\n",
       "    <tr style=\"text-align: right;\">\n",
       "      <th></th>\n",
       "      <th>DomainLength</th>\n",
       "      <th>TLDLegitimateProb</th>\n",
       "      <th>TLDLength</th>\n",
       "      <th>NoOfSubDomain</th>\n",
       "      <th>NoOfLettersInURL</th>\n",
       "      <th>LetterRatioInURL</th>\n",
       "      <th>NoOfEqualsInURL</th>\n",
       "      <th>NoOfQMarkInURL</th>\n",
       "      <th>LineOfCode</th>\n",
       "      <th>LargestLineLength</th>\n",
       "      <th>...</th>\n",
       "      <th>HasPasswordField</th>\n",
       "      <th>Bank</th>\n",
       "      <th>Pay</th>\n",
       "      <th>Crypto</th>\n",
       "      <th>NoOfImage</th>\n",
       "      <th>NoOfCSS</th>\n",
       "      <th>NoOfJS</th>\n",
       "      <th>NoOfEmptyRef</th>\n",
       "      <th>NoOfExternalRef</th>\n",
       "      <th>label</th>\n",
       "    </tr>\n",
       "  </thead>\n",
       "  <tbody>\n",
       "    <tr>\n",
       "      <th>11</th>\n",
       "      <td>16</td>\n",
       "      <td>0.522907</td>\n",
       "      <td>3</td>\n",
       "      <td>1</td>\n",
       "      <td>10</td>\n",
       "      <td>0.455</td>\n",
       "      <td>0</td>\n",
       "      <td>0</td>\n",
       "      <td>2</td>\n",
       "      <td>87</td>\n",
       "      <td>...</td>\n",
       "      <td>0</td>\n",
       "      <td>0</td>\n",
       "      <td>0</td>\n",
       "      <td>0</td>\n",
       "      <td>0</td>\n",
       "      <td>0</td>\n",
       "      <td>0</td>\n",
       "      <td>0</td>\n",
       "      <td>1</td>\n",
       "      <td>0</td>\n",
       "    </tr>\n",
       "    <tr>\n",
       "      <th>20</th>\n",
       "      <td>20</td>\n",
       "      <td>0.018013</td>\n",
       "      <td>2</td>\n",
       "      <td>2</td>\n",
       "      <td>6</td>\n",
       "      <td>0.231</td>\n",
       "      <td>0</td>\n",
       "      <td>0</td>\n",
       "      <td>9</td>\n",
       "      <td>44</td>\n",
       "      <td>...</td>\n",
       "      <td>0</td>\n",
       "      <td>0</td>\n",
       "      <td>0</td>\n",
       "      <td>0</td>\n",
       "      <td>0</td>\n",
       "      <td>0</td>\n",
       "      <td>0</td>\n",
       "      <td>0</td>\n",
       "      <td>0</td>\n",
       "      <td>0</td>\n",
       "    </tr>\n",
       "    <tr>\n",
       "      <th>21</th>\n",
       "      <td>17</td>\n",
       "      <td>0.000053</td>\n",
       "      <td>2</td>\n",
       "      <td>1</td>\n",
       "      <td>12</td>\n",
       "      <td>0.500</td>\n",
       "      <td>0</td>\n",
       "      <td>0</td>\n",
       "      <td>20</td>\n",
       "      <td>211</td>\n",
       "      <td>...</td>\n",
       "      <td>0</td>\n",
       "      <td>0</td>\n",
       "      <td>0</td>\n",
       "      <td>0</td>\n",
       "      <td>0</td>\n",
       "      <td>0</td>\n",
       "      <td>0</td>\n",
       "      <td>0</td>\n",
       "      <td>0</td>\n",
       "      <td>0</td>\n",
       "    </tr>\n",
       "    <tr>\n",
       "      <th>27</th>\n",
       "      <td>29</td>\n",
       "      <td>0.522907</td>\n",
       "      <td>3</td>\n",
       "      <td>1</td>\n",
       "      <td>26</td>\n",
       "      <td>0.703</td>\n",
       "      <td>0</td>\n",
       "      <td>0</td>\n",
       "      <td>16</td>\n",
       "      <td>113</td>\n",
       "      <td>...</td>\n",
       "      <td>0</td>\n",
       "      <td>0</td>\n",
       "      <td>0</td>\n",
       "      <td>0</td>\n",
       "      <td>0</td>\n",
       "      <td>0</td>\n",
       "      <td>0</td>\n",
       "      <td>0</td>\n",
       "      <td>0</td>\n",
       "      <td>0</td>\n",
       "    </tr>\n",
       "    <tr>\n",
       "      <th>28</th>\n",
       "      <td>26</td>\n",
       "      <td>0.032650</td>\n",
       "      <td>2</td>\n",
       "      <td>2</td>\n",
       "      <td>16</td>\n",
       "      <td>0.500</td>\n",
       "      <td>0</td>\n",
       "      <td>0</td>\n",
       "      <td>43</td>\n",
       "      <td>283</td>\n",
       "      <td>...</td>\n",
       "      <td>0</td>\n",
       "      <td>0</td>\n",
       "      <td>0</td>\n",
       "      <td>0</td>\n",
       "      <td>1</td>\n",
       "      <td>0</td>\n",
       "      <td>0</td>\n",
       "      <td>0</td>\n",
       "      <td>1</td>\n",
       "      <td>0</td>\n",
       "    </tr>\n",
       "  </tbody>\n",
       "</table>\n",
       "<p>5 rows × 32 columns</p>\n",
       "</div>"
      ],
      "text/plain": [
       "    DomainLength  TLDLegitimateProb  TLDLength  NoOfSubDomain  \\\n",
       "11            16           0.522907          3              1   \n",
       "20            20           0.018013          2              2   \n",
       "21            17           0.000053          2              1   \n",
       "27            29           0.522907          3              1   \n",
       "28            26           0.032650          2              2   \n",
       "\n",
       "    NoOfLettersInURL  LetterRatioInURL  NoOfEqualsInURL  NoOfQMarkInURL  \\\n",
       "11                10             0.455                0               0   \n",
       "20                 6             0.231                0               0   \n",
       "21                12             0.500                0               0   \n",
       "27                26             0.703                0               0   \n",
       "28                16             0.500                0               0   \n",
       "\n",
       "    LineOfCode  LargestLineLength  ...  HasPasswordField  Bank  Pay  Crypto  \\\n",
       "11           2                 87  ...                 0     0    0       0   \n",
       "20           9                 44  ...                 0     0    0       0   \n",
       "21          20                211  ...                 0     0    0       0   \n",
       "27          16                113  ...                 0     0    0       0   \n",
       "28          43                283  ...                 0     0    0       0   \n",
       "\n",
       "    NoOfImage  NoOfCSS  NoOfJS  NoOfEmptyRef  NoOfExternalRef  label  \n",
       "11          0        0       0             0                1      0  \n",
       "20          0        0       0             0                0      0  \n",
       "21          0        0       0             0                0      0  \n",
       "27          0        0       0             0                0      0  \n",
       "28          1        0       0             0                1      0  \n",
       "\n",
       "[5 rows x 32 columns]"
      ]
     },
     "execution_count": 21,
     "metadata": {},
     "output_type": "execute_result"
    }
   ],
   "source": [
    "phish[phish['label'] == 0].head()"
   ]
  },
  {
   "cell_type": "code",
   "execution_count": 23,
   "id": "79e52ff7",
   "metadata": {},
   "outputs": [
    {
     "data": {
      "text/plain": [
       "DomainLength             20.000000\n",
       "TLDLegitimateProb         0.018013\n",
       "TLDLength                 2.000000\n",
       "NoOfSubDomain             2.000000\n",
       "NoOfLettersInURL          6.000000\n",
       "LetterRatioInURL          0.231000\n",
       "NoOfEqualsInURL           0.000000\n",
       "NoOfQMarkInURL            0.000000\n",
       "LineOfCode                9.000000\n",
       "LargestLineLength        44.000000\n",
       "HasTitle                  1.000000\n",
       "DomainTitleMatchScore     0.000000\n",
       "HasFavicon                0.000000\n",
       "Robots                    0.000000\n",
       "IsResponsive              0.000000\n",
       "NoOfURLRedirect           0.000000\n",
       "NoOfSelfRedirect          0.000000\n",
       "NoOfPopup                 0.000000\n",
       "NoOfiFrame                0.000000\n",
       "HasExternalFormSubmit     0.000000\n",
       "HasSubmitButton           0.000000\n",
       "HasHiddenFields           0.000000\n",
       "HasPasswordField          0.000000\n",
       "Bank                      0.000000\n",
       "Pay                       0.000000\n",
       "Crypto                    0.000000\n",
       "NoOfImage                 0.000000\n",
       "NoOfCSS                   0.000000\n",
       "NoOfJS                    0.000000\n",
       "NoOfEmptyRef              0.000000\n",
       "NoOfExternalRef           0.000000\n",
       "label                     0.000000\n",
       "Name: 20, dtype: float64"
      ]
     },
     "execution_count": 23,
     "metadata": {},
     "output_type": "execute_result"
    }
   ],
   "source": [
    "phish.iloc[20]"
   ]
  }
 ],
 "metadata": {
  "kernelspec": {
   "display_name": "ml_env",
   "language": "python",
   "name": "ml_env"
  },
  "language_info": {
   "codemirror_mode": {
    "name": "ipython",
    "version": 3
   },
   "file_extension": ".py",
   "mimetype": "text/x-python",
   "name": "python",
   "nbconvert_exporter": "python",
   "pygments_lexer": "ipython3",
   "version": "3.11.5"
  }
 },
 "nbformat": 4,
 "nbformat_minor": 5
}
